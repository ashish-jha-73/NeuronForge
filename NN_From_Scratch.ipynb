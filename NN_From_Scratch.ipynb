{
 "cells": [
  {
   "cell_type": "code",
   "execution_count": 83,
   "metadata": {},
   "outputs": [],
   "source": [
    "import numpy as np\n",
    "import pandas as pd\n",
    "import matplotlib.pyplot as plt"
   ]
  },
  {
   "cell_type": "markdown",
   "metadata": {},
   "source": [
    "#### MNIST dataset"
   ]
  },
  {
   "cell_type": "code",
   "execution_count": 84,
   "metadata": {},
   "outputs": [],
   "source": [
    "# Function to one-hot encode the target variable into the 10 classes (0-9)\n",
    "# Input shape: (N,),    Output: (N, 10)\n",
    "def one_hot(Y):\n",
    "    one_hot_Y = np.zeros((Y.size, 10))\n",
    "    one_hot_Y[np.arange(Y.size), Y] = 1\n",
    "    return one_hot_Y"
   ]
  },
  {
   "cell_type": "code",
   "execution_count": 85,
   "metadata": {},
   "outputs": [],
   "source": [
    "# Loading the MNIST dataset\n",
    "train_data=pd.read_csv(r\"./mnist_train.csv\")\n",
    "test_data=pd.read_csv(r\"./mnist_test.csv\")\n",
    "\n",
    "# Preprocessing the data\n",
    "train_data=train_data.to_numpy()    # train_data shape: (60000, 785)\n",
    "test_data=test_data.to_numpy()      # test_data shape: (10000, 785)\n",
    "\n",
    "X_train=train_data[:,1:]            # X_train shape: (60000, 784)\n",
    "y_train=train_data[:,0]             # y_train shape: (60000,)\n",
    "X_test=test_data[:,1:]              # X_test shape: (10000, 784)\n",
    "y_test=test_data[:,0]               # y_test shape: (10000,)\n",
    "\n",
    "X_train = X_train / 255.0           # Normalizing the data\n",
    "X_test = X_test / 255.0\n",
    "# X_train = X_train.T\n",
    "one_hot_y_train = one_hot(y_train)  # one_hot_y_train shape: (60000, 10)\n",
    "one_hot_y_test = one_hot(y_test)    # one_hot_y_test shape: (10000, 10)"
   ]
  },
  {
   "cell_type": "code",
   "execution_count": 140,
   "metadata": {},
   "outputs": [
    {
     "data": {
      "text/plain": [
       "array([[5, 0, 0, ..., 0, 0, 0],\n",
       "       [0, 0, 0, ..., 0, 0, 0],\n",
       "       [4, 0, 0, ..., 0, 0, 0],\n",
       "       ...,\n",
       "       [5, 0, 0, ..., 0, 0, 0],\n",
       "       [6, 0, 0, ..., 0, 0, 0],\n",
       "       [8, 0, 0, ..., 0, 0, 0]], shape=(60000, 785))"
      ]
     },
     "execution_count": 140,
     "metadata": {},
     "output_type": "execute_result"
    }
   ],
   "source": [
    "train_data"
   ]
  },
  {
   "cell_type": "markdown",
   "metadata": {},
   "source": [
    "#### Training on the other Boolean functions"
   ]
  },
  {
   "cell_type": "markdown",
   "metadata": {},
   "source": [
    "### Task 1"
   ]
  },
  {
   "cell_type": "code",
   "execution_count": 86,
   "metadata": {},
   "outputs": [],
   "source": [
    "# XOR dataset\n",
    "\n",
    "XOR_x = np.array([[0, 0, 1, 1],\n",
    "                [0, 1, 0, 1]])\n",
    "XOR_y = np.array([0, 1, 1, 0])\n"
   ]
  },
  {
   "cell_type": "code",
   "execution_count": 87,
   "metadata": {},
   "outputs": [
    {
     "data": {
      "text/plain": [
       "array([[0, 0, 0, 0, 0],\n",
       "       [1, 0, 0, 0, 0],\n",
       "       [0, 1, 0, 0, 0],\n",
       "       [1, 1, 0, 0, 0],\n",
       "       [0, 0, 1, 0, 0],\n",
       "       [1, 0, 1, 0, 0],\n",
       "       [0, 1, 1, 0, 0],\n",
       "       [1, 1, 1, 0, 0],\n",
       "       [0, 0, 0, 1, 0],\n",
       "       [1, 0, 0, 1, 0],\n",
       "       [0, 1, 0, 1, 0],\n",
       "       [1, 1, 0, 1, 0],\n",
       "       [0, 0, 1, 1, 0],\n",
       "       [1, 0, 1, 1, 0],\n",
       "       [0, 1, 1, 1, 0],\n",
       "       [1, 1, 1, 1, 0],\n",
       "       [0, 0, 0, 0, 1],\n",
       "       [1, 0, 0, 0, 1],\n",
       "       [0, 1, 0, 0, 1],\n",
       "       [1, 1, 0, 0, 1],\n",
       "       [0, 0, 1, 0, 1],\n",
       "       [1, 0, 1, 0, 1],\n",
       "       [0, 1, 1, 0, 1],\n",
       "       [1, 1, 1, 0, 1],\n",
       "       [0, 0, 0, 1, 1],\n",
       "       [1, 0, 0, 1, 1],\n",
       "       [0, 1, 0, 1, 1],\n",
       "       [1, 1, 0, 1, 1],\n",
       "       [0, 0, 1, 1, 1],\n",
       "       [1, 0, 1, 1, 1],\n",
       "       [0, 1, 1, 1, 1],\n",
       "       [1, 1, 1, 1, 1]])"
      ]
     },
     "execution_count": 87,
     "metadata": {},
     "output_type": "execute_result"
    }
   ],
   "source": [
    "# function to generate bin seq array of 5 inputs\n",
    "\n",
    "def bin_seq(pr, BIN_dataset):\n",
    "    A = [0]*pr\n",
    "    temp = []\n",
    "    for i in range(2**pr):\n",
    "        j = 0\n",
    "        k = i\n",
    "        while(j < pr):\n",
    "            \n",
    "            if (k & 1) == 1:\n",
    "                A[j] = 1\n",
    "            k = (k//2)\n",
    "            j += 1\n",
    "        BIN_dataset.append(A)\n",
    "        A = [0]*pr\n",
    "\n",
    "input_5 = []\n",
    "bin_seq(5, input_5)\n",
    "input_5 = np.array(input_5)\n",
    "input_5"
   ]
  },
  {
   "cell_type": "code",
   "execution_count": 188,
   "metadata": {},
   "outputs": [],
   "source": [
    "# Palindrome detection\n",
    "def is_palindrome(X):\n",
    "    i = 0\n",
    "    j = len(X) - 1\n",
    "    while j >= i:\n",
    "        if (X[i] != X[j]):\n",
    "            return False\n",
    "        j -= 1\n",
    "        i += 1\n",
    "    return True\n",
    "\n",
    "# majority function\n",
    "def majority(X):\n",
    "    cnt1 = 0\n",
    "    cnt0 = 1\n",
    "    for i in X:\n",
    "        cnt1 += (i == 1)\n",
    "        cnt0 += (i == 0)\n",
    "    if cnt1 > cnt0:\n",
    "        return True\n",
    "    return False\n",
    "\n",
    "# even parity function\n",
    "def even_parity(X):\n",
    "    cnt1 = 0\n",
    "    cnt0 = 1\n",
    "    for i in X:\n",
    "        cnt1 += (i == 1)\n",
    "        cnt0 += (i == 0)\n",
    "    if cnt1 % 2 == 0:\n",
    "        return True\n",
    "    return False\n",
    "\n"
   ]
  },
  {
   "cell_type": "code",
   "execution_count": 189,
   "metadata": {},
   "outputs": [
    {
     "name": "stdout",
     "output_type": "stream",
     "text": [
      "[1 0 0 0 1 0 0 0 0 0 1 0 0 0 1 0 0 1 0 0 0 1 0 0 0 0 0 1 0 0 0 1]\n",
      "[0 0 0 0 0 0 0 0 0 0 0 0 0 0 0 1 0 0 0 0 0 0 0 1 0 0 0 1 0 1 1 1]\n",
      "[1 0 0 1 0 1 1 0 0 1 1 0 1 0 0 1 0 1 1 0 1 0 0 1 1 0 0 1 0 1 1 0]\n"
     ]
    }
   ],
   "source": [
    "# other dataset output\n",
    "\n",
    "BIN_y = np.array([int(is_palindrome(k)) for k in input_5])\n",
    "MAJ_y = np.array([int(majority(k)) for k in input_5])\n",
    "EVE_y = np.array([int(even_parity(k)) for k in input_5])\n",
    "\n",
    "print(BIN_y)\n",
    "print(MAJ_y)\n",
    "print(EVE_y)"
   ]
  },
  {
   "cell_type": "markdown",
   "metadata": {},
   "source": [
    "### Task 2"
   ]
  },
  {
   "cell_type": "code",
   "execution_count": null,
   "metadata": {},
   "outputs": [],
   "source": [
    "# initializing parameters\n",
    "def initialize_param(X, Y):\n",
    "    W1 = np.random.randn(10, 784) - 0.5\n",
    "    b1 = np.random.randn(10, 1) - 0.5\n",
    "    W2 = np.random.randn(10, 10) - 0.5\n",
    "    b2 = np.random.randn(10, 1) - 0.5\n",
    "    return W1, b1, W2, b2\n",
    "\n",
    "# sigmoid activation function\n",
    "def sigmoid_func(x):\n",
    "    return (1 / (1 + (np.exp(-1*x))))\n",
    "\n",
    "def relu_func(Z):\n",
    "    return np.maximum(Z, 0)\n",
    "\n",
    "def relu_derv(Z):\n",
    "    return Z > 0\n",
    "\n",
    "def softmax(Z):\n",
    "    A = np.exp(Z) / (np.sum(np.exp(Z), axis = 1).reshape(10, 1))\n",
    "    # print(np.sum(A[0]))\n",
    "    return A\n",
    "\n",
    "def concat(X, n):\n",
    "    X = list(X)\n",
    "    X.append(n);\n",
    "    X = np.array(X)\n",
    "    return X.copy()\n",
    "\n",
    "# choosing number of hidden layes as 1\n",
    "def forward_prop_1(X, W1, b1, W2, b2):\n",
    "    Z1 = W1.dot(X.T) + b1\n",
    "    A1 = relu_func(Z1)\n",
    "    # print(f\"A1:: \", Z1.shape)\n",
    "    Z2 = np.dot(W2, A1) + b2\n",
    "    # print(Z2.shape)\n",
    "    A2 = softmax(Z2)\n",
    "    # print(f\"Z2:: \",Z2.shape)\n",
    "    return Z1, A1, Z2, A2\n",
    "\n",
    "def sigmod_derv(Z):\n",
    "    return Z * (1 - Z)\n",
    "\n",
    "def back_prop(Z1, A1, Z2, A2, W1, W2, X, Y):\n",
    "    dZ2 = A2 - one_hot_y_train.T\n",
    "    m = 60000\n",
    "    dW2 = 1 / m * dZ2.dot(A1.T)\n",
    "    db2 = 1 / m * np.sum(dZ2)\n",
    "    dZ1 = W2.T.dot(dZ2) * relu_derv(Z1)\n",
    "    dW1 = 1 / m * dZ1.dot(X)\n",
    "    db1 = 1 / m * np.sum(dZ1)\n",
    "    # print(dW1, dW2)\n",
    "    return dW1, db1, dW2, db2\n",
    "\n",
    "\n",
    "def update_param(W1, b1, W2, b2, dW1, dW2, db1, db2, alpha):\n",
    "    W1 = W1 - alpha * dW1\n",
    "    b1 = b1 - alpha * db1\n",
    "    W2 = W2 - alpha * dW2\n",
    "    b2 = b2 - alpha * db2\n",
    "    return W1, b1, W2, b2\n",
    "\n",
    "   "
   ]
  },
  {
   "cell_type": "code",
   "execution_count": null,
   "metadata": {},
   "outputs": [],
   "source": [
    "def get_pred(A2):\n",
    "    return np.argmax(A2, 0)\n",
    "\n",
    "def accu(Y_pred, Y):\n",
    "    return np.sum(Y_pred == Y) / Y.size\n",
    "\n",
    "def gradient(X, Y, alpha, iteration):\n",
    "    W1, b1, W2, b2 = initialize_param(X, Y)\n",
    "    for i in range(iteration):\n",
    "        Z1, A1, Z2, A2 = forward_prop_1(X, W1, b1, W2, b2)\n",
    "        dW1, db1, dW2, db2 = back_prop(Z1, A1, Z2, A2, W1, W2, X, Y)\n",
    "        W1, b1, W2, b2 = update_param(W1, b1, W2, b2, dW1, dW2, db1, db2, alpha)\n",
    "        if i % 100 == 0:\n",
    "            print(\"----------------------------------------------\")\n",
    "            print(f\"Iteration: \", i)\n",
    "            pred = get_pred(A2)\n",
    "            print(pred, Y)\n",
    "            print(accu(pred, Y))\n",
    "            print(\"----------------------------------------------\")\n",
    "    return W1, b1, W2, b2            "
   ]
  },
  {
   "cell_type": "code",
   "execution_count": null,
   "metadata": {},
   "outputs": [],
   "source": [
    "\n",
    "W1, b1, W2, b2 = gradient(X_train, y_train, 0.01, 1000)"
   ]
  },
  {
   "cell_type": "code",
   "execution_count": null,
   "metadata": {},
   "outputs": [],
   "source": []
  },
  {
   "cell_type": "code",
   "execution_count": null,
   "metadata": {},
   "outputs": [],
   "source": []
  }
 ],
 "metadata": {
  "kernelspec": {
   "display_name": "Python 3 (ipykernel)",
   "language": "python",
   "name": "python3"
  },
  "language_info": {
   "codemirror_mode": {
    "name": "ipython",
    "version": 3
   },
   "file_extension": ".py",
   "mimetype": "text/x-python",
   "name": "python",
   "nbconvert_exporter": "python",
   "pygments_lexer": "ipython3",
   "version": "3.10.12"
  }
 },
 "nbformat": 4,
 "nbformat_minor": 4
}
